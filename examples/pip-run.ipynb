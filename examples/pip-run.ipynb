{
  "cells": [
    {
      "cell_type": "code",
      "execution_count": 1,
      "metadata": {
        "id": "byPgKYhAE6gn"
      },
      "outputs": [],
      "source": [
        "import os\n",
        "os.environ['OPENAI_API_KEY'] = 'your_openai_api_key'\n",
        "os.environ['TAVILY_API_KEY'] = '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' # Get a free key here: https://app.tavily.com"
      ]
    },
    {
      "cell_type": "code",
      "execution_count": null,
      "metadata": {
        "id": "-rXET3OZLxwH"
      },
      "outputs": [],
      "source": [
        "!pip install -U gpt-researcher nest_asyncio"
      ]
    },
    {
      "cell_type": "code",
      "execution_count": null,
      "metadata": {
        "id": "KWZe2InrL0ji"
      },
      "outputs": [],
      "source": [
        "import nest_asyncio # required for notebooks\n",
        "nest_asyncio.apply()\n",
        "\n",
        "from gpt_researcher import GPTResearcher\n",
        "import asyncio\n",
        "\n",
        "async def get_report(query: str, report_type: str) -> str:\n",
        "    researcher = GPTResearcher(query, report_type)\n",
        "    research_result = await researcher.conduct_research()\n",
        "    report = await researcher.write_report()\n",
        "    return report\n",
        "\n",
        "if __name__ == \"__main__\":\n",
        "    query = \"which team may win the World Series?\"\n",
        "    report_type = \"research_report\"\n",
        "\n",
        "    report = asyncio.run(get_report(query, report_type))\n",
        "    print(report)"
      ]
    }
  ],
  "metadata": {
    "colab": {
      "provenance": []
    },
    "kernelspec": {
      "display_name": "Python 3",
      "name": "python3"
    },
    "language_info": {
      "name": "python",
      "version": "3.11.9"
    }
  },
  "nbformat": 4,
  "nbformat_minor": 0
}
